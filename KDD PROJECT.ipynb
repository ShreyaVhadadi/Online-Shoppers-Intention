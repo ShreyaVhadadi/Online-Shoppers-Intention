{
 "cells": [
  {
   "cell_type": "markdown",
   "metadata": {},
   "source": [
    "# KDD FINAL PROJECT\n",
    "\n",
    "    CHRAN SURESH - 10450732     SHREYA VHADADI - 10453495    PRITIHIV DEV - 10453922"
   ]
  },
  {
   "cell_type": "markdown",
   "metadata": {},
   "source": [
    "## Online Shopper's Intention\n",
    "The main idea is to find the customers intention of whether he/she would buy the particular product given the features."
   ]
  },
  {
   "cell_type": "code",
   "execution_count": 59,
   "metadata": {},
   "outputs": [],
   "source": [
    "import pandas as pd\n",
    "import numpy as np\n",
    "import matplotlib.pyplot as plt\n",
    "import warnings  \n",
    "warnings.filterwarnings('ignore')\n",
    "import seaborn as sns\n",
    "\n",
    "from sklearn.neural_network import MLPClassifier\n",
    "from sklearn.model_selection import train_test_split\n",
    "from sklearn.preprocessing import LabelEncoder\n",
    "from sklearn.model_selection import train_test_split\n",
    "from sklearn.metrics import accuracy_score\n",
    "from sklearn.neural_network import MLPClassifier\n",
    "from sklearn.metrics import classification_report\n",
    "from sklearn.tree import DecisionTreeClassifier,export_graphviz\n",
    "from sklearn.neighbors import KNeighborsClassifier\n",
    "from sklearn.metrics import precision_recall_fscore_support\n",
    "from sklearn.ensemble import RandomForestClassifier\n",
    "from sklearn.cluster import KMeans"
   ]
  },
  {
   "cell_type": "code",
   "execution_count": 36,
   "metadata": {},
   "outputs": [],
   "source": [
    "data = pd.read_csv(\"online_shoppers_intention.csv\")"
   ]
  },
  {
   "cell_type": "code",
   "execution_count": 37,
   "metadata": {},
   "outputs": [
    {
     "data": {
      "text/plain": [
       "[False, True]"
      ]
     },
     "execution_count": 37,
     "metadata": {},
     "output_type": "execute_result"
    }
   ],
   "source": [
    "data.Revenue.unique().tolist()"
   ]
  },
  {
   "cell_type": "markdown",
   "metadata": {},
   "source": [
    "#### The dataset is a binary class with imbalanced data with Revenue- True with lesser sample which depicts the customers who have bought products from the ecommerce website"
   ]
  },
  {
   "cell_type": "code",
   "execution_count": 57,
   "metadata": {},
   "outputs": [
    {
     "data": {
      "text/plain": [
       "([<matplotlib.patches.Wedge at 0x1a1706b850>,\n",
       "  <matplotlib.patches.Wedge at 0x1a1706bbd0>],\n",
       " [Text(0.9725550024353201, 0.5139423773518141, 'True'),\n",
       "  Text(-0.9725549783759403, -0.5139424228803988, 'False')])"
      ]
     },
     "execution_count": 57,
     "metadata": {},
     "output_type": "execute_result"
    },
    {
     "data": {
      "image/png": "[encoded data removed]",
      "text/plain": [
       "<Figure size 432x288 with 1 Axes>"
      ]
     },
     "metadata": {},
     "output_type": "display_data"
    }
   ],
   "source": [
    "plt.pie([len(data[data[\"Revenue\"]==True]),len(data[data[\"Revenue\"]==False])],labels=[\"True\",\"False\"])"
   ]
  },
  {
   "cell_type": "markdown",
   "metadata": {},
   "source": [
    "#### The dataset is found to have 14 values in each column and found out that all the 14 values like in the same column, so we decided to remove the corresponding 14 records"
   ]
  },
  {
   "cell_type": "code",
   "execution_count": 4,
   "metadata": {},
   "outputs": [
    {
     "data": {
      "text/plain": [
       "Administrative             14\n",
       "Administrative_Duration    14\n",
       "Informational              14\n",
       "Informational_Duration     14\n",
       "ProductRelated             14\n",
       "ProductRelated_Duration    14\n",
       "BounceRates                14\n",
       "ExitRates                  14\n",
       "PageValues                  0\n",
       "SpecialDay                  0\n",
       "Month                       0\n",
       "OperatingSystems            0\n",
       "Browser                     0\n",
       "Region                      0\n",
       "TrafficType                 0\n",
       "VisitorType                 0\n",
       "Weekend                     0\n",
       "Revenue                     0\n",
       "dtype: int64"
      ]
     },
     "execution_count": 4,
     "metadata": {},
     "output_type": "execute_result"
    }
   ],
   "source": [
    "data.isnull().sum()"
   ]
  },
  {
   "cell_type": "code",
   "execution_count": 5,
   "metadata": {},
   "outputs": [],
   "source": [
    "data = data.dropna()"
   ]
  },
  {
   "cell_type": "code",
   "execution_count": 6,
   "metadata": {},
   "outputs": [
    {
     "data": {
      "text/plain": [
       "Administrative             0\n",
       "Administrative_Duration    0\n",
       "Informational              0\n",
       "Informational_Duration     0\n",
       "ProductRelated             0\n",
       "ProductRelated_Duration    0\n",
       "BounceRates                0\n",
       "ExitRates                  0\n",
       "PageValues                 0\n",
       "SpecialDay                 0\n",
       "Month                      0\n",
       "OperatingSystems           0\n",
       "Browser                    0\n",
       "Region                     0\n",
       "TrafficType                0\n",
       "VisitorType                0\n",
       "Weekend                    0\n",
       "Revenue                    0\n",
       "dtype: int64"
      ]
     },
     "execution_count": 6,
     "metadata": {},
     "output_type": "execute_result"
    }
   ],
   "source": [
    "data.isnull().sum()"
   ]
  },
  {
   "cell_type": "markdown",
   "metadata": {},
   "source": [
    "#### The dataset is divided for features(x) and labels(y) and the values are label encoder(distinct string values changed to numeric integers)"
   ]
  },
  {
   "cell_type": "code",
   "execution_count": 7,
   "metadata": {},
   "outputs": [],
   "source": [
    "x = data.iloc[:,0:17]\n",
    "y = data.iloc[:,17:]"
   ]
  },
  {
   "cell_type": "code",
   "execution_count": 8,
   "metadata": {},
   "outputs": [],
   "source": [
    "le = LabelEncoder()"
   ]
  },
  {
   "cell_type": "code",
   "execution_count": 9,
   "metadata": {},
   "outputs": [],
   "source": [
    "x['Month'] = le.fit_transform(x['Month'])\n",
    "x['VisitorType'] = le.fit_transform(x['VisitorType'])\n",
    "x['Weekend'] = le.fit_transform(x['Weekend'])"
   ]
  },
  {
   "cell_type": "code",
   "execution_count": 10,
   "metadata": {},
   "outputs": [],
   "source": [
    "y['Revenue'] = le.fit_transform(y['Revenue'])"
   ]
  },
  {
   "cell_type": "markdown",
   "metadata": {},
   "source": [
    "#### The correlation matrix is drawn even though the correlation was high for two of the values there literal meaning had been different wherein we decided not to remove the data"
   ]
  },
  {
   "cell_type": "code",
   "execution_count": 13,
   "metadata": {},
   "outputs": [
    {
     "data": {
      "image/png": "[encoded data removed]",
      "text/plain": [
       "<Figure size 936x936 with 2 Axes>"
      ]
     },
     "metadata": {
      "needs_background": "light"
     },
     "output_type": "display_data"
    }
   ],
   "source": [
    "f,ax = plt.subplots(figsize=(13,13))\n",
    "corr = data.corr()\n",
    "fig = sns.heatmap(corr,mask = np.zeros_like(corr,dtype=np.bool),cmap = sns.diverging_palette(220,10,as_cmap=True),square = True,ax = ax)\n",
    "fig.figure.savefig(\"corr.png\")"
   ]
  },
  {
   "cell_type": "markdown",
   "metadata": {},
   "source": [
    "#### The train and test data is split to with a 80-20 ratio"
   ]
  },
  {
   "cell_type": "code",
   "execution_count": 11,
   "metadata": {},
   "outputs": [],
   "source": [
    "from sklearn.model_selection import train_test_split\n",
    "x_train, x_test , y_train, y_test = train_test_split(x, y,test_size = 0.2, random_state =42 )"
   ]
  },
  {
   "cell_type": "markdown",
   "metadata": {},
   "source": [
    "#### The baseline model is defined with random prediction "
   ]
  },
  {
   "cell_type": "code",
   "execution_count": 15,
   "metadata": {},
   "outputs": [],
   "source": [
    "random_prediction = np.random.randint(2, size = len(y_test))"
   ]
  },
  {
   "cell_type": "code",
   "execution_count": 16,
   "metadata": {},
   "outputs": [
    {
     "name": "stdout",
     "output_type": "stream",
     "text": [
      "The Accuracy for Random Prediction:  0.5040584415584416\n"
     ]
    }
   ],
   "source": [
    "accuracy = accuracy_score(random_prediction, y_test)\n",
    "print(\"The Accuracy for Random Prediction: \",accuracy)"
   ]
  },
  {
   "cell_type": "markdown",
   "metadata": {},
   "source": [
    "#### The test data is compared with all true"
   ]
  },
  {
   "cell_type": "code",
   "execution_count": 17,
   "metadata": {},
   "outputs": [],
   "source": [
    "ones = np.ones(len(y_test))"
   ]
  },
  {
   "cell_type": "code",
   "execution_count": 18,
   "metadata": {},
   "outputs": [
    {
     "name": "stdout",
     "output_type": "stream",
     "text": [
      "The Accuracy for all Ones Prediction:  0.1444805194805195\n"
     ]
    }
   ],
   "source": [
    "accuracy = accuracy_score(ones, y_test)\n",
    "print(\"The Accuracy for all Ones Prediction: \",accuracy)"
   ]
  },
  {
   "cell_type": "markdown",
   "metadata": {},
   "source": [
    "#### The test data is compared with all false"
   ]
  },
  {
   "cell_type": "code",
   "execution_count": 19,
   "metadata": {},
   "outputs": [],
   "source": [
    "zeros = np.zeros(len(y_test))"
   ]
  },
  {
   "cell_type": "code",
   "execution_count": 20,
   "metadata": {},
   "outputs": [
    {
     "name": "stdout",
     "output_type": "stream",
     "text": [
      "The Accuracy for all Zeros Prediction:  0.8555194805194806\n"
     ]
    }
   ],
   "source": [
    "accuracy = accuracy_score(zeros, y_test)\n",
    "print(\"The Accuracy for all Zeros Prediction: \",accuracy)"
   ]
  },
  {
   "cell_type": "markdown",
   "metadata": {},
   "source": [
    "# KNN"
   ]
  },
  {
   "cell_type": "code",
   "execution_count": 21,
   "metadata": {},
   "outputs": [
    {
     "name": "stdout",
     "output_type": "stream",
     "text": [
      "\n",
      "The number of neighbors : 1\n",
      "              precision    recall  f1-score   support\n",
      "\n",
      "           0       0.91      0.89      0.90      2146\n",
      "           1       0.37      0.41      0.39       318\n",
      "\n",
      "    accuracy                           0.83      2464\n",
      "   macro avg       0.64      0.65      0.64      2464\n",
      "weighted avg       0.84      0.83      0.84      2464\n",
      "\n",
      "\n",
      "The number of neighbors : 2\n",
      "              precision    recall  f1-score   support\n",
      "\n",
      "           0       0.98      0.88      0.93      2341\n",
      "           1       0.22      0.63      0.32       123\n",
      "\n",
      "    accuracy                           0.87      2464\n",
      "   macro avg       0.60      0.75      0.62      2464\n",
      "weighted avg       0.94      0.87      0.90      2464\n",
      "\n",
      "\n",
      "The number of neighbors : 3\n",
      "              precision    recall  f1-score   support\n",
      "\n",
      "           0       0.95      0.90      0.93      2236\n",
      "           1       0.37      0.58      0.46       228\n",
      "\n",
      "    accuracy                           0.87      2464\n",
      "   macro avg       0.66      0.74      0.69      2464\n",
      "weighted avg       0.90      0.87      0.88      2464\n",
      "\n",
      "\n",
      "The number of neighbors : 4\n",
      "              precision    recall  f1-score   support\n",
      "\n",
      "           0       0.98      0.88      0.93      2340\n",
      "           1       0.23      0.67      0.35       124\n",
      "\n",
      "    accuracy                           0.87      2464\n",
      "   macro avg       0.61      0.78      0.64      2464\n",
      "weighted avg       0.94      0.87      0.90      2464\n",
      "\n",
      "\n",
      "The number of neighbors : 5\n",
      "              precision    recall  f1-score   support\n",
      "\n",
      "           0       0.97      0.89      0.93      2284\n",
      "           1       0.31      0.61      0.41       180\n",
      "\n",
      "    accuracy                           0.87      2464\n",
      "   macro avg       0.64      0.75      0.67      2464\n",
      "weighted avg       0.92      0.87      0.89      2464\n",
      "\n",
      "\n",
      "The number of neighbors : 6\n",
      "              precision    recall  f1-score   support\n",
      "\n",
      "           0       0.98      0.88      0.93      2356\n",
      "           1       0.21      0.69      0.32       108\n",
      "\n",
      "    accuracy                           0.87      2464\n",
      "   macro avg       0.60      0.79      0.63      2464\n",
      "weighted avg       0.95      0.87      0.90      2464\n",
      "\n",
      "\n",
      "The number of neighbors : 7\n",
      "              precision    recall  f1-score   support\n",
      "\n",
      "           0       0.98      0.88      0.93      2331\n",
      "           1       0.23      0.62      0.34       133\n",
      "\n",
      "    accuracy                           0.87      2464\n",
      "   macro avg       0.60      0.75      0.63      2464\n",
      "weighted avg       0.94      0.87      0.90      2464\n",
      "\n",
      "\n",
      "The number of neighbors : 8\n",
      "              precision    recall  f1-score   support\n",
      "\n",
      "           0       0.99      0.88      0.93      2381\n",
      "           1       0.17      0.72      0.27        83\n",
      "\n",
      "    accuracy                           0.87      2464\n",
      "   macro avg       0.58      0.80      0.60      2464\n",
      "weighted avg       0.96      0.87      0.91      2464\n",
      "\n",
      "\n",
      "The number of neighbors : 9\n",
      "              precision    recall  f1-score   support\n",
      "\n",
      "           0       0.98      0.88      0.93      2361\n",
      "           1       0.20      0.68      0.31       103\n",
      "\n",
      "    accuracy                           0.87      2464\n",
      "   macro avg       0.59      0.78      0.62      2464\n",
      "weighted avg       0.95      0.87      0.90      2464\n",
      "\n",
      "\n",
      "The number of neighbors : 10\n",
      "              precision    recall  f1-score   support\n",
      "\n",
      "           0       0.99      0.88      0.93      2383\n",
      "           1       0.17      0.74      0.27        81\n",
      "\n",
      "    accuracy                           0.87      2464\n",
      "   macro avg       0.58      0.81      0.60      2464\n",
      "weighted avg       0.96      0.87      0.91      2464\n",
      "\n"
     ]
    }
   ],
   "source": [
    "prec = []\n",
    "values = []\n",
    "for i in range(1,11):\n",
    "    neigh = KNeighborsClassifier(n_neighbors=i)\n",
    "    neigh.fit(x_train, y_train)\n",
    "    pred_knn = neigh.predict(x_test)\n",
    "    print(\"\\nThe number of neighbors :\",i)\n",
    "    print(classification_report(pred_knn,y_test))\n",
    "    precision_knn,_,_,_ = precision_recall_fscore_support(pred_knn,y_test)\n",
    "    prec.append(precision_knn[1])\n",
    "    values.append(i)"
   ]
  },
  {
   "cell_type": "code",
   "execution_count": 22,
   "metadata": {},
   "outputs": [
    {
     "data": {
      "image/png": "[encoded data removed]",
      "text/plain": [
       "<Figure size 432x288 with 1 Axes>"
      ]
     },
     "metadata": {
      "needs_background": "light"
     },
     "output_type": "display_data"
    }
   ],
   "source": [
    "fig = plt.figure()\n",
    "plt.plot(values,prec)\n",
    "plt.xlabel(\"No.of K's\")\n",
    "plt.ylabel(\"Precision of Class 1\")\n",
    "fig.savefig('k values vs precision.png')"
   ]
  },
  {
   "cell_type": "code",
   "execution_count": 23,
   "metadata": {},
   "outputs": [
    {
     "name": "stdout",
     "output_type": "stream",
     "text": [
      "              precision    recall  f1-score   support\n",
      "\n",
      "           0       0.95      0.90      0.93      2236\n",
      "           1       0.37      0.58      0.46       228\n",
      "\n",
      "    accuracy                           0.87      2464\n",
      "   macro avg       0.66      0.74      0.69      2464\n",
      "weighted avg       0.90      0.87      0.88      2464\n",
      "\n"
     ]
    }
   ],
   "source": [
    "neigh = KNeighborsClassifier(n_neighbors=3)\n",
    "neigh.fit(x_train, y_train)\n",
    "pred_knn = neigh.predict(x_test)\n",
    "print(classification_report(pred_knn,y_test))"
   ]
  },
  {
   "cell_type": "markdown",
   "metadata": {},
   "source": [
    "# Decision Tree"
   ]
  },
  {
   "cell_type": "code",
   "execution_count": 24,
   "metadata": {},
   "outputs": [
    {
     "name": "stdout",
     "output_type": "stream",
     "text": [
      "              precision    recall  f1-score   support\n",
      "\n",
      "           0       0.91      0.92      0.91      2086\n",
      "           1       0.51      0.48      0.50       378\n",
      "\n",
      "    accuracy                           0.85      2464\n",
      "   macro avg       0.71      0.70      0.71      2464\n",
      "weighted avg       0.85      0.85      0.85      2464\n",
      "\n"
     ]
    }
   ],
   "source": [
    "trees = DecisionTreeClassifier()\n",
    "trees.fit(x_train, y_train)\n",
    "pred_dt = trees.predict(x_test)\n",
    "print(classification_report(pred_dt,y_test))"
   ]
  },
  {
   "cell_type": "code",
   "execution_count": 32,
   "metadata": {},
   "outputs": [
    {
     "data": {
      "image/png": "[encoded data removed]",
      "text/plain": [
       "<Figure size 640x480 with 1 Axes>"
      ]
     },
     "metadata": {},
     "output_type": "display_data"
    }
   ],
   "source": [
    "a = x.columns\n",
    "plt.bar(a,trees.feature_importances_, align='center')\n",
    "plt.xticks(rotation=90)\n",
    "plt.show()"
   ]
  },
  {
   "cell_type": "markdown",
   "metadata": {},
   "source": [
    "# Random Forest"
   ]
  },
  {
   "cell_type": "code",
   "execution_count": 17,
   "metadata": {},
   "outputs": [
    {
     "name": "stdout",
     "output_type": "stream",
     "text": [
      "              precision    recall  f1-score   support\n",
      "\n",
      "           0       0.96      0.93      0.94      2182\n",
      "           1       0.55      0.70      0.61       282\n",
      "\n",
      "    accuracy                           0.90      2464\n",
      "   macro avg       0.75      0.81      0.78      2464\n",
      "weighted avg       0.91      0.90      0.91      2464\n",
      "\n",
      "              precision    recall  f1-score   support\n",
      "\n",
      "           0       0.96      0.93      0.94      2183\n",
      "           1       0.55      0.70      0.62       281\n",
      "\n",
      "    accuracy                           0.90      2464\n",
      "   macro avg       0.76      0.81      0.78      2464\n",
      "weighted avg       0.91      0.90      0.91      2464\n",
      "\n",
      "              precision    recall  f1-score   support\n",
      "\n",
      "           0       0.96      0.93      0.94      2180\n",
      "           1       0.57      0.71      0.63       284\n",
      "\n",
      "    accuracy                           0.90      2464\n",
      "   macro avg       0.76      0.82      0.79      2464\n",
      "weighted avg       0.92      0.90      0.91      2464\n",
      "\n",
      "              precision    recall  f1-score   support\n",
      "\n",
      "           0       0.96      0.93      0.94      2177\n",
      "           1       0.56      0.69      0.62       287\n",
      "\n",
      "    accuracy                           0.90      2464\n",
      "   macro avg       0.76      0.81      0.78      2464\n",
      "weighted avg       0.91      0.90      0.91      2464\n",
      "\n",
      "              precision    recall  f1-score   support\n",
      "\n",
      "           0       0.96      0.93      0.94      2178\n",
      "           1       0.56      0.70      0.62       286\n",
      "\n",
      "    accuracy                           0.90      2464\n",
      "   macro avg       0.76      0.81      0.78      2464\n",
      "weighted avg       0.91      0.90      0.91      2464\n",
      "\n",
      "              precision    recall  f1-score   support\n",
      "\n",
      "           0       0.96      0.93      0.94      2183\n",
      "           1       0.55      0.70      0.62       281\n",
      "\n",
      "    accuracy                           0.90      2464\n",
      "   macro avg       0.76      0.81      0.78      2464\n",
      "weighted avg       0.91      0.90      0.91      2464\n",
      "\n",
      "              precision    recall  f1-score   support\n",
      "\n",
      "           0       0.96      0.93      0.94      2178\n",
      "           1       0.56      0.69      0.62       286\n",
      "\n",
      "    accuracy                           0.90      2464\n",
      "   macro avg       0.76      0.81      0.78      2464\n",
      "weighted avg       0.91      0.90      0.90      2464\n",
      "\n",
      "              precision    recall  f1-score   support\n",
      "\n",
      "           0       0.96      0.93      0.94      2184\n",
      "           1       0.56      0.71      0.62       280\n",
      "\n",
      "    accuracy                           0.90      2464\n",
      "   macro avg       0.76      0.82      0.78      2464\n",
      "weighted avg       0.92      0.90      0.91      2464\n",
      "\n",
      "              precision    recall  f1-score   support\n",
      "\n",
      "           0       0.96      0.93      0.95      2181\n",
      "           1       0.57      0.71      0.63       283\n",
      "\n",
      "    accuracy                           0.90      2464\n",
      "   macro avg       0.76      0.82      0.79      2464\n",
      "weighted avg       0.92      0.90      0.91      2464\n",
      "\n",
      "              precision    recall  f1-score   support\n",
      "\n",
      "           0       0.96      0.93      0.94      2181\n",
      "           1       0.56      0.70      0.62       283\n",
      "\n",
      "    accuracy                           0.90      2464\n",
      "   macro avg       0.76      0.81      0.78      2464\n",
      "weighted avg       0.91      0.90      0.91      2464\n",
      "\n"
     ]
    }
   ],
   "source": [
    "prec = []\n",
    "values = []\n",
    "for i in range(100,1100,100):\n",
    "    rf = RandomForestClassifier(n_estimators = i)\n",
    "    rf.fit(x_train,y_train)\n",
    "    pred_rf = rf.predict(x_test)\n",
    "    precision_rf,_,_,_ = precision_recall_fscore_support(pred_rf,y_test)\n",
    "    prec.append(precision_rf[1])\n",
    "    values.append(i)\n",
    "    print(classification_report(pred_rf,y_test))"
   ]
  },
  {
   "cell_type": "code",
   "execution_count": 18,
   "metadata": {},
   "outputs": [
    {
     "data": {
      "image/png": "[encoded data removed]",
      "text/plain": [
       "<Figure size 432x288 with 1 Axes>"
      ]
     },
     "metadata": {
      "needs_background": "light"
     },
     "output_type": "display_data"
    }
   ],
   "source": [
    "fig = plt.figure()\n",
    "plt.plot(values,prec)\n",
    "plt.xlabel(\"No.of Tree's(in 100's)\")\n",
    "plt.ylabel(\"Precision of Class 1\")\n",
    "fig.savefig('No. of trees vs precision.png')"
   ]
  },
  {
   "cell_type": "code",
   "execution_count": 19,
   "metadata": {},
   "outputs": [
    {
     "name": "stdout",
     "output_type": "stream",
     "text": [
      "              precision    recall  f1-score   support\n",
      "\n",
      "           0       0.96      0.93      0.94      2172\n",
      "           1       0.58      0.70      0.63       292\n",
      "\n",
      "    accuracy                           0.90      2464\n",
      "   macro avg       0.77      0.82      0.79      2464\n",
      "weighted avg       0.91      0.90      0.91      2464\n",
      "\n"
     ]
    }
   ],
   "source": [
    "rf = RandomForestClassifier(n_estimators = 300)\n",
    "rf.fit(x_train,y_train)\n",
    "pred_rf = rf.predict(x_test)\n",
    "print(classification_report(pred_rf,y_test))"
   ]
  },
  {
   "cell_type": "code",
   "execution_count": 23,
   "metadata": {},
   "outputs": [
    {
     "data": {
      "image/png": "[encoded data removed]",
      "text/plain": [
       "<Figure size 432x288 with 1 Axes>"
      ]
     },
     "metadata": {
      "needs_background": "light"
     },
     "output_type": "display_data"
    }
   ],
   "source": [
    "a = x.columns\n",
    "plt.bar(a,rf.feature_importances_, align='center')\n",
    "plt.xticks(rotation=90)\n",
    "plt.show()"
   ]
  },
  {
   "cell_type": "code",
   "execution_count": null,
   "metadata": {},
   "outputs": [],
   "source": [
    "# from sklearn.externals.six import StringIO  \n",
    "# from IPython.display import Image  \n",
    "# from sklearn.tree import export_graphviz\n",
    "# import pydotplus\n",
    "# dot_data = StringIO()\n",
    "# export_graphviz(trees, out_file=dot_data,  \n",
    "#                 filled=True, rounded=True,\n",
    "#                 special_characters=True)\n",
    "# graph = pydotplus.graph_from_dot_data(dot_data.getvalue())  \n",
    "# Image(graph.create_png())"
   ]
  },
  {
   "cell_type": "markdown",
   "metadata": {},
   "source": [
    "# ANN"
   ]
  },
  {
   "cell_type": "code",
   "execution_count": 126,
   "metadata": {},
   "outputs": [
    {
     "name": "stdout",
     "output_type": "stream",
     "text": [
      "              precision    recall  f1-score   support\n",
      "\n",
      "           0       0.96      0.91      0.93      2239\n",
      "           1       0.41      0.65      0.51       225\n",
      "\n",
      "    accuracy                           0.88      2464\n",
      "   macro avg       0.69      0.78      0.72      2464\n",
      "weighted avg       0.91      0.88      0.89      2464\n",
      "\n"
     ]
    }
   ],
   "source": [
    "ann = MLPClassifier(solver='adam', alpha=1e-5,hidden_layer_sizes=(8))\n",
    "ann.fit(x_train, y_train)\n",
    "nn_prediction = ann.predict(x_test)\n",
    "print(classification_report(nn_prediction,y_test))"
   ]
  },
  {
   "cell_type": "markdown",
   "metadata": {},
   "source": [
    "# K MEANS"
   ]
  },
  {
   "cell_type": "code",
   "execution_count": 91,
   "metadata": {},
   "outputs": [
    {
     "data": {
      "image/png": "[encoded data removed]",
      "text/plain": [
       "<Figure size 640x480 with 1 Axes>"
      ]
     },
     "metadata": {},
     "output_type": "display_data"
    }
   ],
   "source": [
    "wcss = []\n",
    "for i in range(1,11):\n",
    "    kmeans = KMeans(n_clusters = i, init = 'k-means++', max_iter = 300, n_init = 10 , random_state = 0)\n",
    "    kmeans.fit(x_train)\n",
    "    wcss.append(kmeans.inertia_)\n",
    "plt.plot(range(1,11), wcss)\n",
    "plt.show()"
   ]
  },
  {
   "cell_type": "code",
   "execution_count": 92,
   "metadata": {},
   "outputs": [],
   "source": [
    "kmeans = KMeans(n_clusters = 4,init = 'k-means++',max_iter = 300, n_init = 10, random_state =0)\n",
    "y_kmeans = kmeans.fit_predict(x)"
   ]
  },
  {
   "cell_type": "markdown",
   "metadata": {},
   "source": [
    "# SVM"
   ]
  },
  {
   "cell_type": "code",
   "execution_count": 145,
   "metadata": {},
   "outputs": [],
   "source": [
    "from sklearn.svm import LinearSVC\n",
    "from sklearn.linear_model import LogisticRegression"
   ]
  },
  {
   "cell_type": "code",
   "execution_count": 152,
   "metadata": {},
   "outputs": [
    {
     "name": "stdout",
     "output_type": "stream",
     "text": [
      "              precision    recall  f1-score   support\n",
      "\n",
      "           0       0.99      0.89      0.93      2343\n",
      "           1       0.25      0.74      0.38       121\n",
      "\n",
      "    accuracy                           0.88      2464\n",
      "   macro avg       0.62      0.82      0.66      2464\n",
      "weighted avg       0.95      0.88      0.91      2464\n",
      "\n"
     ]
    }
   ],
   "source": [
    "svm = LinearSVC()\n",
    "svm.fit(x_train, y_train)\n",
    "pred_svm = svm.predict(x_test)\n",
    "print(classification_report(pred_svm,y_test))"
   ]
  },
  {
   "cell_type": "markdown",
   "metadata": {},
   "source": [
    "# Logistic Regression"
   ]
  },
  {
   "cell_type": "code",
   "execution_count": 153,
   "metadata": {},
   "outputs": [
    {
     "name": "stdout",
     "output_type": "stream",
     "text": [
      "              precision    recall  f1-score   support\n",
      "\n",
      "           0       0.97      0.90      0.93      2280\n",
      "           1       0.34      0.66      0.45       184\n",
      "\n",
      "    accuracy                           0.88      2464\n",
      "   macro avg       0.66      0.78      0.69      2464\n",
      "weighted avg       0.92      0.88      0.90      2464\n",
      "\n"
     ]
    }
   ],
   "source": [
    "clf = LogisticRegression()\n",
    "clf.fit(x_train, y_train)\n",
    "predicts = clf.predict(x_test)\n",
    "print(classification_report(predicts,y_test))"
   ]
  },
  {
   "cell_type": "markdown",
   "metadata": {},
   "source": [
    "# Random Final"
   ]
  },
  {
   "cell_type": "markdown",
   "metadata": {},
   "source": [
    "#### The final model is calculated with the most important features that shows a similar precision to the all feature model."
   ]
  },
  {
   "cell_type": "code",
   "execution_count": 188,
   "metadata": {},
   "outputs": [],
   "source": [
    "x_trains = x_train.iloc[:,[7,8]]"
   ]
  },
  {
   "cell_type": "code",
   "execution_count": 189,
   "metadata": {},
   "outputs": [],
   "source": [
    "x_tests = x_test.iloc[:,[7,8]]"
   ]
  },
  {
   "cell_type": "code",
   "execution_count": 190,
   "metadata": {},
   "outputs": [
    {
     "name": "stdout",
     "output_type": "stream",
     "text": [
      "              precision    recall  f1-score   support\n",
      "\n",
      "           0       0.93      0.93      0.93      2101\n",
      "           1       0.58      0.57      0.57       363\n",
      "\n",
      "    accuracy                           0.88      2464\n",
      "   macro avg       0.75      0.75      0.75      2464\n",
      "weighted avg       0.87      0.88      0.87      2464\n",
      "\n"
     ]
    }
   ],
   "source": [
    "rf = RandomForestClassifier(n_estimators = 300)\n",
    "rf.fit(x_trains,y_train)\n",
    "pred_rf = rf.predict(x_tests)\n",
    "print(classification_report(pred_rf,y_test))"
   ]
  },
  {
   "cell_type": "markdown",
   "metadata": {},
   "source": [
    "# Naive Bayes"
   ]
  },
  {
   "cell_type": "code",
   "execution_count": 192,
   "metadata": {},
   "outputs": [],
   "source": [
    "from sklearn.naive_bayes import GaussianNB"
   ]
  },
  {
   "cell_type": "code",
   "execution_count": 193,
   "metadata": {},
   "outputs": [
    {
     "name": "stdout",
     "output_type": "stream",
     "text": [
      "              precision    recall  f1-score   support\n",
      "\n",
      "           0       0.91      0.91      0.91      2092\n",
      "           1       0.50      0.48      0.49       372\n",
      "\n",
      "    accuracy                           0.85      2464\n",
      "   macro avg       0.70      0.70      0.70      2464\n",
      "weighted avg       0.85      0.85      0.85      2464\n",
      "\n"
     ]
    }
   ],
   "source": [
    "gb = GaussianNB()\n",
    "gb.fit(x_train,y_train)\n",
    "pred_gb = gb.predict(x_test)\n",
    "print(classification_report(pred_gb,y_test))"
   ]
  }
 ],
 "metadata": {
  "kernelspec": {
   "display_name": "Python 3",
   "language": "python",
   "name": "python3"
  },
  "language_info": {
   "codemirror_mode": {
    "name": "ipython",
    "version": 3
   },
   "file_extension": ".py",
   "mimetype": "text/x-python",
   "name": "python",
   "nbconvert_exporter": "python",
   "pygments_lexer": "ipython3",
   "version": "3.7.4"
  }
 },
 "nbformat": 4,
 "nbformat_minor": 2
}
